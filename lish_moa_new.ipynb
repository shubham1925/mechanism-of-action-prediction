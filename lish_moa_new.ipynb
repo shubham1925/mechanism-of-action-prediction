{
  "nbformat": 4,
  "nbformat_minor": 0,
  "metadata": {
    "colab": {
      "name": "lish_moa_new.ipynb",
      "provenance": [],
      "collapsed_sections": []
    },
    "kernelspec": {
      "name": "python3",
      "display_name": "Python 3"
    },
    "accelerator": "GPU"
  },
  "cells": [
    {
      "cell_type": "code",
      "metadata": {
        "id": "eeY8zdHrs7LP",
        "colab": {
          "base_uri": "https://localhost:8080/"
        },
        "outputId": "97af7d2c-b830-45ea-b4c3-2fcb92b56726"
      },
      "source": [
        "from google.colab import drive\n",
        "drive.mount('/content/drive')\n",
        "# drive.mount(\"/content/drive\", force_remount=True)"
      ],
      "execution_count": 59,
      "outputs": [
        {
          "output_type": "stream",
          "text": [
            "Drive already mounted at /content/drive; to attempt to forcibly remount, call drive.mount(\"/content/drive\", force_remount=True).\n"
          ],
          "name": "stdout"
        }
      ]
    },
    {
      "cell_type": "code",
      "metadata": {
        "id": "I1MOLBLWX4-d"
      },
      "source": [
        "import numpy as np\n",
        "import pandas as pd\n",
        "from sklearn.model_selection import KFold\n",
        "from sklearn.metrics import log_loss\n",
        "from sklearn.decomposition import PCA\n",
        "\n",
        "import tensorflow as tf\n",
        "import tensorflow_addons as tfa\n",
        "import tensorflow.keras.backend as K\n",
        "import tensorflow.keras.layers as L\n",
        "import tensorflow.keras.models as M\n",
        "import time\n",
        "import sys\n",
        "import os"
      ],
      "execution_count": 60,
      "outputs": []
    },
    {
      "cell_type": "code",
      "metadata": {
        "id": "kESwrSmI2RJK"
      },
      "source": [
        "data_train = pd.read_csv('/content/drive/MyDrive/lish-moa/train_features.csv')\n",
        "test_df = pd.read_csv('/content/drive/MyDrive/lish-moa/test_features.csv')\n",
        "targetns = pd.read_csv('/content/drive/MyDrive/lish-moa/train_targets_nonscored.csv')\n",
        "train_target_df = pd.read_csv('/content/drive/MyDrive/lish-moa/train_targets_scored.csv')\n",
        "sub = pd.read_csv('/content/drive/MyDrive/lish-moa/sample_submission.csv')"
      ],
      "execution_count": 61,
      "outputs": []
    },
    {
      "cell_type": "code",
      "metadata": {
        "colab": {
          "base_uri": "https://localhost:8080/"
        },
        "id": "fVDxQfKS3AXe",
        "outputId": "19e6a02f-7fb9-4f5c-e69a-ebf0a738d821"
      },
      "source": [
        "target_cols = train_target_df.columns[1:]\n",
        "N_TARGETS = len(target_cols)\n",
        "print(data_train.shape)"
      ],
      "execution_count": 62,
      "outputs": [
        {
          "output_type": "stream",
          "text": [
            "(23814, 876)\n"
          ],
          "name": "stdout"
        }
      ]
    },
    {
      "cell_type": "code",
      "metadata": {
        "id": "b4Nvks1Z--8o"
      },
      "source": [
        "cells = [col for col in data_train.columns if col.startswith('c-')]\n",
        "genes = [col for col in data_train.columns if col.startswith('g-')]"
      ],
      "execution_count": 63,
      "outputs": []
    },
    {
      "cell_type": "code",
      "metadata": {
        "colab": {
          "base_uri": "https://localhost:8080/",
          "height": 265
        },
        "id": "bObc2PvSrmRV",
        "outputId": "bc365b9e-639c-4570-c330-573ac5f810d6"
      },
      "source": [
        "#Deciding the number of components for gene features\r\n",
        "data = pd.concat([pd.DataFrame(data_train[genes]), pd.DataFrame(test_df[genes])])\r\n",
        "pca = PCA().fit(data)\r\n",
        "xi = np.arange(1, 773, 1)\r\n",
        "y = np.cumsum(pca.explained_variance_ratio_)\r\n",
        "plt.plot(xi, y, color = 'red')\r\n",
        "plt.axhline(y = 0.95, color = 'blue')\r\n",
        "plt.grid(axis = 'x')"
      ],
      "execution_count": 64,
      "outputs": [
        {
          "output_type": "display_data",
          "data": {
            "image/png": "[encoded data removed]",
            "text/plain": [
              "<Figure size 432x288 with 1 Axes>"
            ]
          },
          "metadata": {
            "tags": [],
            "needs_background": "light"
          }
        }
      ]
    },
    {
      "cell_type": "code",
      "metadata": {
        "colab": {
          "base_uri": "https://localhost:8080/",
          "height": 265
        },
        "id": "m94XAlBFtZkD",
        "outputId": "07d17a82-6b33-4642-b050-dfb1cf49f65c"
      },
      "source": [
        "#Deciding the number of components for cell features\r\n",
        "data = pd.concat([pd.DataFrame(data_train[cells]), pd.DataFrame(test_df[cells])])\r\n",
        "pca = PCA().fit(data)\r\n",
        "xi = np.arange(1, 101, 1)\r\n",
        "y = np.cumsum(pca.explained_variance_ratio_)\r\n",
        "plt.plot(xi, y, color = 'red')\r\n",
        "plt.axhline(y = 0.95, color = 'blue')\r\n",
        "plt.grid(axis = 'x')"
      ],
      "execution_count": 65,
      "outputs": [
        {
          "output_type": "display_data",
          "data": {
            "image/png": "[encoded data removed]",
            "text/plain": [
              "<Figure size 432x288 with 1 Axes>"
            ]
          },
          "metadata": {
            "tags": [],
            "needs_background": "light"
          }
        }
      ]
    },
    {
      "cell_type": "code",
      "metadata": {
        "id": "2De-DZaFa5-3"
      },
      "source": [
        "# For g- features\n",
        "#n_comp = 525\n",
        "data = pd.concat([pd.DataFrame(data_train[genes]), pd.DataFrame(test_df[genes])])\n",
        "data2 = (PCA(n_components = 525, random_state = 100).fit_transform(data[genes])) #50\n",
        "train2 = data2[:data_train.shape[0]]\n",
        "test2 = data2[-test_df.shape[0]:]\n",
        "\n",
        "train2 = pd.DataFrame(train2, columns = [f'pca_G-{i}' for i in range(525)])\n",
        "test2 = pd.DataFrame(test2, columns = [f'pca_G-{i}' for i in range(525)])\n",
        "\n",
        "data_train = pd.concat((data_train, train2), axis = 1)\n",
        "test_df = pd.concat((test_df, test2), axis = 1)"
      ],
      "execution_count": 70,
      "outputs": []
    },
    {
      "cell_type": "code",
      "metadata": {
        "id": "YPGwe49ac8CM"
      },
      "source": [
        "# For c- features\n",
        "data = pd.concat([pd.DataFrame(data_train[cells]), pd.DataFrame(test_df[cells])])\n",
        "data2 = (PCA(n_components = 45, random_state = 100).fit_transform(data[cells])) #15\n",
        "train2 = data2[:data_train.shape[0]]\n",
        "test2 = data2[-test_df.shape[0]:]\n",
        "\n",
        "train2 = pd.DataFrame(train2, columns = [f'pca_C-{i}' for i in range(45)])\n",
        "test2 = pd.DataFrame(test2, columns = [f'pca_C-{i}' for i in range(45)])\n",
        "data_train = pd.concat((data_train, train2), axis = 1)\n",
        "test_df = pd.concat((test_df, test2), axis = 1)\n",
        "# data_train"
      ],
      "execution_count": 69,
      "outputs": []
    },
    {
      "cell_type": "code",
      "metadata": {
        "id": "1YlRDw0xdiof",
        "colab": {
          "base_uri": "https://localhost:8080/"
        },
        "outputId": "b890d9f0-912b-402c-aa29-babaf3293c3f"
      },
      "source": [
        "from sklearn.feature_selection import VarianceThreshold\n",
        "\n",
        "train_copy = data_train\n",
        "var_thresh = VarianceThreshold(0.95)\n",
        "data = data_train.append(test_df)\n",
        "data_transformed = var_thresh.fit_transform(data.iloc[:, 4:])\n",
        "data_transformed.shape"
      ],
      "execution_count": 71,
      "outputs": [
        {
          "output_type": "execute_result",
          "data": {
            "text/plain": [
              "(27796, 1238)"
            ]
          },
          "metadata": {
            "tags": []
          },
          "execution_count": 71
        }
      ]
    },
    {
      "cell_type": "code",
      "metadata": {
        "id": "Mt1kT7TyeRnV"
      },
      "source": [
        "train_df_trans = data_transformed[ : data_train.shape[0]]\n",
        "test_df_trans = data_transformed[-test_df.shape[0] : ]\n",
        "\n",
        "data_train = pd.DataFrame(data_train[['sig_id', 'cp_type', 'cp_time', 'cp_dose']].\n",
        "                        values.reshape(-1, 4), columns = ['sig_id', 'cp_type', \n",
        "                                                          'cp_time', 'cp_dose'])\n",
        "# train_df.head\n",
        "data_train = pd.concat([data_train, pd.DataFrame(train_df_trans)], axis = 1)\n",
        "\n",
        "\n",
        "test_df = pd.DataFrame(test_df[['sig_id', 'cp_type', 'cp_time', 'cp_dose']].\n",
        "                       values.reshape(-1, 4), columns = ['sig_id', 'cp_type', \n",
        "                                                         'cp_time', 'cp_dose'])\n",
        "# train_df.head\n",
        "test_df = pd.concat([test_df, pd.DataFrame(test_df_trans)], axis = 1)\n",
        "# train_df.head"
      ],
      "execution_count": 72,
      "outputs": []
    },
    {
      "cell_type": "code",
      "metadata": {
        "id": "4jufWOrsjd_x"
      },
      "source": [
        "search_row = dict(train_copy.iloc[0, 4:])\n",
        "col_rela = {}\n",
        "for i in np.arange(0, 868):\n",
        "  for k, v in search_row.items():\n",
        "    if data_train[i][0] == v.all():\n",
        "      col_rela[i] = k\n",
        "data_train = data_train.rename(columns = col_rela)\n",
        "test_df = test_df.rename(columns = col_rela)\n"
      ],
      "execution_count": 73,
      "outputs": []
    },
    {
      "cell_type": "code",
      "metadata": {
        "id": "P8Mda3w8n7Sc"
      },
      "source": [
        "SEED = 1925\n",
        "EPOCHS = 25\n",
        "BATCH_SIZE = 128\n",
        "FOLDS = 5\n",
        "REPEATS = 2\n",
        "LR = 0.0005\n",
        "N_TARGETS = len(target_cols)"
      ],
      "execution_count": 74,
      "outputs": []
    },
    {
      "cell_type": "code",
      "metadata": {
        "id": "QJ41d27KpHFN"
      },
      "source": [
        "def multi_log_loss(y_true, y_pred):\n",
        "  losses = []\n",
        "  for col in y_true.columns:\n",
        "    losses.append(log_loss(y_true.loc[:, col], y_pred.loc[:, col]))\n",
        "  return np.mean(losses)"
      ],
      "execution_count": 75,
      "outputs": []
    },
    {
      "cell_type": "code",
      "metadata": {
        "id": "RdNyeb33pzF-"
      },
      "source": [
        "def preprocess_df(data):\n",
        "  data.drop(['cp_type'], axis = 1, inplace = True)\n",
        "  data.loc[:, 'cp_dose'] = data.loc[:, 'cp_dose'].map({'D1':0, 'D2':1})\n",
        "  data.loc[:, 'cp_time'] = data.loc[:, 'cp_time'].map({24:0, 48:1, 72:2})\n",
        "  return data"
      ],
      "execution_count": 76,
      "outputs": []
    },
    {
      "cell_type": "code",
      "metadata": {
        "id": "iIz-efmeqG97"
      },
      "source": [
        "x_train = preprocess_df(data_train.drop(columns = \"sig_id\"))\n",
        "x_test = preprocess_df(test_df.drop(columns = \"sig_id\"))\n",
        "y_train = train_target_df.drop(columns = \"sig_id\")\n",
        "# y_test = targetns.drop(columns = \"sig_id\")\n",
        "N_FEATURES = x_train.shape[1]"
      ],
      "execution_count": 77,
      "outputs": []
    },
    {
      "cell_type": "code",
      "metadata": {
        "id": "xytYuIpmqnTZ"
      },
      "source": [
        "x_train = x_train.astype({'cp_time':int})\n",
        "x_test = x_test.astype({'cp_time':int})\n",
        "# x_train"
      ],
      "execution_count": 78,
      "outputs": []
    },
    {
      "cell_type": "code",
      "metadata": {
        "id": "6Pa34J9WZs9y"
      },
      "source": [
        "def create_model(col_num):\n",
        "  model = tf.keras.Sequential()\n",
        "  model.add(tf.keras.layers.Input(col_num))\n",
        "  model.add(tf.keras.layers.BatchNormalization())\n",
        "  model.add(tf.keras.layers.Dropout(0.2))\n",
        "  model.add(tfa.layers.WeightNormalization(tf.keras.layers.Dense(6144, \n",
        "                                                                 activation = \"relu\")))#2048\n",
        "  model.add(tf.keras.layers.BatchNormalization())\n",
        "  model.add(tf.keras.layers.Dropout(0.5))\n",
        "  model.add(tfa.layers.WeightNormalization(tf.keras.layers.Dense(6144, \n",
        "                                                                 activation = \"relu\")))#2048\n",
        "  model.add(tf.keras.layers.BatchNormalization())\n",
        "  model.add(tf.keras.layers.Dropout(0.5))\n",
        "  model.add(tfa.layers.WeightNormalization(tf.keras.layers.Dense(206, \n",
        "                                                                 activation = \"sigmoid\")))#N_TARGETS\n",
        "  model.compile(optimizer = tf.keras.optimizers.Adam(learning_rate = LR), \n",
        "                loss = 'binary_crossentropy', metrics = [\"accuracy\"])\n",
        "  return model"
      ],
      "execution_count": 79,
      "outputs": []
    },
    {
      "cell_type": "code",
      "metadata": {
        "id": "nsBfRn_xRDDC"
      },
      "source": [
        "EPOCHS = 25\n",
        "BATCH_SIZE = 128\n",
        "# BATCH_SIZE = 32\n",
        "\n",
        "def build_train(repeat_number = 0, folds = 5):\n",
        "  models = []\n",
        "  oof_preds = y_train.copy()\n",
        "  kfold = KFold(n_splits = folds, shuffle = True)\n",
        "  for fold, (train_ind, val_ind) in enumerate(kfold.split(x_train)):\n",
        "    # print(f'Training fold {fold + 1}')\n",
        "    print('Training fold: ', fold+1)\n",
        "    # fold = fold + 1\n",
        "    cb_lr_schedule = tf.keras.callbacks.ReduceLROnPlateau(monitor = 'val_loss', \n",
        "                                                          factor = 0.4, \n",
        "                                                          patience = 2, \n",
        "                                                          verbose = 1, \n",
        "                                                          min_delta = 0.0001, \n",
        "                                                          mode = 'auto')\n",
        "    checkpoint_path = f'repeat:{repeat_number}_Fold:{fold}.hdf5'\n",
        "    cb_checkpt = tf.keras.callbacks.ModelCheckpoint(checkpoint_path, \n",
        "                                                    monitor = 'val_loss', \n",
        "                                                    verbose = 2,\n",
        "                                                    save_best_only = True, \n",
        "                                                    save_weights_only = True, \n",
        "                                                    mode = 'min')\n",
        "    \n",
        "    # cb_checkpt = tf.keras.callbacks.EarlyStopping(monitor = 'val_accuracy', \n",
        "    #                                               verbose = 2, mode = 'max', \n",
        "    #                                               min_delta = 0.01)\n",
        "\n",
        "    model = create_model(col_num = N_FEATURES)\n",
        "    training_history = model.fit(x_train.values[train_ind], \n",
        "                                 y_train.values[train_ind], \n",
        "              validation_data = (x_train.values[val_ind], y_train.values[val_ind]),\n",
        "              callbacks = [cb_lr_schedule, cb_checkpt], epochs = EPOCHS, \n",
        "              batch_size = BATCH_SIZE, verbose = 2)\n",
        "    model.load_weights(checkpoint_path)\n",
        "    oof_preds.loc[val_ind, :] = model.predict(x_train.values[val_ind])\n",
        "    models.append(model)\n",
        "    print('train:')\n",
        "    print(list(zip(model.metrics_names, model.evaluate(x_train.values[train_ind], \n",
        "                                                       y_train.values[train_ind], \n",
        "                                                       verbose = 0, batch_size = 32))))\n",
        "    print('val:')\n",
        "    print(list(zip(model.metrics_names, model.evaluate(x_train.values[val_ind], \n",
        "                                                       y_train.values[val_ind], \n",
        "                                                       verbose = 0, batch_size = 32))))\n",
        "  return models, oof_preds, training_history\n",
        "  "
      ],
      "execution_count": 80,
      "outputs": []
    },
    {
      "cell_type": "code",
      "metadata": {
        "id": "rh4Y1LfDVHnm"
      },
      "source": [
        "model = create_model(col_num = N_FEATURES)\n",
        "model.summary()"
      ],
      "execution_count": null,
      "outputs": []
    },
    {
      "cell_type": "code",
      "metadata": {
        "id": "jYphaA8kSYbY"
      },
      "source": [
        "models = []\n",
        "oof_preds = []\n",
        "# seed_everything(SEED)\n",
        "np.random.seed(SEED)\n",
        "os.environ['PYTHONHASHSEED'] = str(SEED)\n",
        "tf.random.set_seed(SEED)\n",
        "# SEED_ARRAY = [0, 1, 2, 3, 4]\n",
        "for i in range(1):\n",
        "  m, oof, history = build_train(repeat_number = i, folds = FOLDS)\n",
        "  models = models + m\n",
        "  oof_preds.append(oof)"
      ],
      "execution_count": null,
      "outputs": []
    },
    {
      "cell_type": "code",
      "metadata": {
        "colab": {
          "base_uri": "https://localhost:8080/",
          "height": 283
        },
        "id": "qpQSh1SDEwIH",
        "outputId": "eae5d57f-84bd-47fa-a517-720ec1790811"
      },
      "source": [
        "history.history['loss']\n",
        "import matplotlib.pyplot as plt\n",
        "plt.plot(history.history['loss'])\n",
        "plt.plot(history.history['val_loss'])"
      ],
      "execution_count": 83,
      "outputs": [
        {
          "output_type": "execute_result",
          "data": {
            "text/plain": [
              "[<matplotlib.lines.Line2D at 0x7f328ed92f60>]"
            ]
          },
          "metadata": {
            "tags": []
          },
          "execution_count": 83
        },
        {
          "output_type": "display_data",
          "data": {
            "image/png": "[encoded data removed]",
            "text/plain": [
              "<Figure size 432x288 with 1 Axes>"
            ]
          },
          "metadata": {
            "tags": [],
            "needs_background": "light"
          }
        }
      ]
    },
    {
      "cell_type": "code",
      "metadata": {
        "colab": {
          "base_uri": "https://localhost:8080/",
          "height": 283
        },
        "id": "STrZGKE_Fsht",
        "outputId": "eebee3a5-751f-484a-e70d-9ec5fd823a28"
      },
      "source": [
        "plt.plot(history.history['accuracy'])\n",
        "plt.plot(history.history['val_accuracy'])"
      ],
      "execution_count": 84,
      "outputs": [
        {
          "output_type": "execute_result",
          "data": {
            "text/plain": [
              "[<matplotlib.lines.Line2D at 0x7f328eda6d30>]"
            ]
          },
          "metadata": {
            "tags": []
          },
          "execution_count": 84
        },
        {
          "output_type": "display_data",
          "data": {
            "image/png": "[encoded data removed]",
            "text/plain": [
              "<Figure size 432x288 with 1 Axes>"
            ]
          },
          "metadata": {
            "tags": [],
            "needs_background": "light"
          }
        }
      ]
    },
    {
      "cell_type": "code",
      "metadata": {
        "id": "fvPj3EsFiiNC",
        "colab": {
          "base_uri": "https://localhost:8080/"
        },
        "outputId": "8eb1eaa3-8008-46a0-c506-ce126181d8b9"
      },
      "source": [
        "y_pred = models[1].predict(x_test)\n",
        "models[1].evaluate(x_train, y_train)"
      ],
      "execution_count": 47,
      "outputs": [
        {
          "output_type": "stream",
          "text": [
            "745/745 [==============================] - 6s 8ms/step - loss: 0.0105 - accuracy: 0.3136\n"
          ],
          "name": "stdout"
        },
        {
          "output_type": "execute_result",
          "data": {
            "text/plain": [
              "[0.010462705045938492, 0.31359705328941345]"
            ]
          },
          "metadata": {
            "tags": []
          },
          "execution_count": 47
        }
      ]
    },
    {
      "cell_type": "code",
      "metadata": {
        "id": "XXHd2O4fzHYn"
      },
      "source": [
        "test_preds = sub.copy()\n",
        "test_preds[target_cols] = 0\n",
        "for model in models:\n",
        "  test_preds.loc[:, target_cols] += model.predict(x_test)\n",
        "test_preds.loc[:, target_cols] /= len(models)\n",
        "# test_preds.loc[x_test['cp_type'] == 0, target_cols] = 0\n",
        "test_preds.to_csv('submission.csv', index = False)"
      ],
      "execution_count": 48,
      "outputs": []
    }
  ]
}