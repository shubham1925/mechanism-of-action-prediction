{
  "nbformat": 4,
  "nbformat_minor": 0,
  "metadata": {
    "colab": {
      "name": "lish_moa_new.ipynb",
      "provenance": [],
      "collapsed_sections": []
    },
    "kernelspec": {
      "name": "python3",
      "display_name": "Python 3"
    }
  },
  "cells": [
    {
      "cell_type": "code",
      "metadata": {
        "id": "eeY8zdHrs7LP",
        "colab": {
          "base_uri": "https://localhost:8080/"
        },
        "outputId": "fafd049a-4824-48d7-a178-12f02ec5d595"
      },
      "source": [
        "from google.colab import drive\n",
        "drive.mount('/content/drive')\n",
        "# drive.mount(\"/content/drive\", force_remount=True)"
      ],
      "execution_count": 25,
      "outputs": [
        {
          "output_type": "stream",
          "text": [
            "Drive already mounted at /content/drive; to attempt to forcibly remount, call drive.mount(\"/content/drive\", force_remount=True).\n"
          ],
          "name": "stdout"
        }
      ]
    },
    {
      "cell_type": "code",
      "metadata": {
        "id": "I1MOLBLWX4-d"
      },
      "source": [
        "import numpy as np\n",
        "import pandas as pd\n",
        "from sklearn.model_selection import KFold\n",
        "from sklearn.metrics import log_loss\n",
        "from sklearn.decomposition import PCA\n",
        "from sklearn.feature_selection import VarianceThreshold\n",
        "import matplotlib.pyplot as plt\n",
        "import tensorflow as tf\n",
        "import tensorflow_addons as tfa\n",
        "import tensorflow.keras.backend\n",
        "import tensorflow.keras.layers\n",
        "import tensorflow.keras.models\n",
        "import time\n",
        "import sys\n",
        "import os"
      ],
      "execution_count": 26,
      "outputs": []
    },
    {
      "cell_type": "code",
      "metadata": {
        "id": "kESwrSmI2RJK"
      },
      "source": [
        "data_train = pd.read_csv('/content/drive/MyDrive/lish-moa/train_features.csv')\n",
        "data_test = pd.read_csv('/content/drive/MyDrive/lish-moa/test_features.csv')\n",
        "targetns = pd.read_csv('/content/drive/MyDrive/lish-moa/train_targets_nonscored.csv')\n",
        "targetscored = pd.read_csv('/content/drive/MyDrive/lish-moa/train_targets_scored.csv')\n",
        "sub = pd.read_csv('/content/drive/MyDrive/lish-moa/sample_submission.csv')"
      ],
      "execution_count": 27,
      "outputs": []
    },
    {
      "cell_type": "code",
      "metadata": {
        "colab": {
          "base_uri": "https://localhost:8080/"
        },
        "id": "fVDxQfKS3AXe",
        "outputId": "7f9a334d-d75a-4546-9a9d-eff3f7e2a142"
      },
      "source": [
        "target_cols = targetscored.columns[1:]\n",
        "# N_TARGETS = len(target_cols)\n",
        "print(data_train.shape)\n",
        "print(data_test.shape)\n",
        "print(targetns.shape)\n",
        "print(targetscored.shape)"
      ],
      "execution_count": 28,
      "outputs": [
        {
          "output_type": "stream",
          "text": [
            "(23814, 876)\n",
            "(3982, 876)\n",
            "(23814, 403)\n",
            "(23814, 207)\n"
          ],
          "name": "stdout"
        }
      ]
    },
    {
      "cell_type": "code",
      "metadata": {
        "id": "b4Nvks1Z--8o"
      },
      "source": [
        "cells = [col for col in data_train.columns if col.startswith('c-')]\n",
        "genes = [col for col in data_train.columns if col.startswith('g-')]"
      ],
      "execution_count": 29,
      "outputs": []
    },
    {
      "cell_type": "code",
      "metadata": {
        "colab": {
          "base_uri": "https://localhost:8080/",
          "height": 265
        },
        "id": "ZwI4Nla5-N0r",
        "outputId": "ede21d45-9124-4af8-dd79-4218971bcb23"
      },
      "source": [
        "#Deciding the number of components for gene features\r\n",
        "data = pd.concat([pd.DataFrame(data_train[genes]), pd.DataFrame(data_test[genes])])\r\n",
        "pca = PCA().fit(data)\r\n",
        "xi = np.arange(1, 773, 1)\r\n",
        "y = np.cumsum(pca.explained_variance_ratio_)\r\n",
        "plt.plot(xi, y, color = 'red')\r\n",
        "plt.axhline(y = 0.95, color = 'blue')\r\n",
        "plt.grid(axis = 'x')"
      ],
      "execution_count": 30,
      "outputs": [
        {
          "output_type": "display_data",
          "data": {
            "image/png": "[encoded data removed]",
            "text/plain": [
              "<Figure size 432x288 with 1 Axes>"
            ]
          },
          "metadata": {
            "tags": [],
            "needs_background": "light"
          }
        }
      ]
    },
    {
      "cell_type": "code",
      "metadata": {
        "colab": {
          "base_uri": "https://localhost:8080/",
          "height": 265
        },
        "id": "sKWKH-HG-PFn",
        "outputId": "29c963ba-239b-4b4f-86b4-7bcf5a2f8a64"
      },
      "source": [
        "#Deciding the number of components for cell features\r\n",
        "data = pd.concat([pd.DataFrame(data_train[cells]), pd.DataFrame(data_test[cells])])\r\n",
        "pca = PCA().fit(data)\r\n",
        "xi = np.arange(1, 101, 1)\r\n",
        "y = np.cumsum(pca.explained_variance_ratio_)\r\n",
        "plt.plot(xi, y, color = 'red')\r\n",
        "plt.axhline(y = 0.95, color = 'blue')\r\n",
        "plt.grid(axis = 'x')"
      ],
      "execution_count": 31,
      "outputs": [
        {
          "output_type": "display_data",
          "data": {
            "image/png": "[encoded data removed]",
            "text/plain": [
              "<Figure size 432x288 with 1 Axes>"
            ]
          },
          "metadata": {
            "tags": [],
            "needs_background": "light"
          }
        }
      ]
    },
    {
      "cell_type": "code",
      "metadata": {
        "id": "2De-DZaFa5-3"
      },
      "source": [
        "# For g- features\n",
        "data = pd.concat([pd.DataFrame(data_train[genes]), pd.DataFrame(data_test[genes])])\n",
        "data_pca = (PCA(n_components = 525, random_state = 100).fit_transform(data[genes]))\n",
        "train_pca = data_pca[:data_train.shape[0]]\n",
        "test_pca = data_pca[-data_test.shape[0]:]\n",
        "\n",
        "train_pca = pd.DataFrame(train_pca, columns = [f'pca_G-{i}' for i in range(525)])\n",
        "test_pca = pd.DataFrame(test_pca, columns = [f'pca_G-{i}' for i in range(525)])\n",
        "\n",
        "data_train = pd.concat((data_train, train_pca), axis = 1)\n",
        "data_test = pd.concat((data_test, test_pca), axis = 1)"
      ],
      "execution_count": 32,
      "outputs": []
    },
    {
      "cell_type": "code",
      "metadata": {
        "id": "YPGwe49ac8CM"
      },
      "source": [
        "# For c- features\n",
        "data = pd.concat([pd.DataFrame(data_train[cells]), pd.DataFrame(data_test[cells])])\n",
        "data_pca = (PCA(n_components = 45, random_state = 100).fit_transform(data[cells]))\n",
        "train_pca = data_pca[:data_train.shape[0]]\n",
        "test_pca = data_pca[-data_test.shape[0]:]\n",
        "\n",
        "train_pca = pd.DataFrame(train_pca, columns = [f'pca_C-{i}' for i in range(45)])\n",
        "test_pca = pd.DataFrame(test_pca, columns = [f'pca_C-{i}' for i in range(45)])\n",
        "data_train = pd.concat((data_train, train_pca), axis = 1)\n",
        "data_test = pd.concat((data_test, test_pca), axis = 1)\n",
        "# data_train"
      ],
      "execution_count": 33,
      "outputs": []
    },
    {
      "cell_type": "code",
      "metadata": {
        "id": "1YlRDw0xdiof",
        "colab": {
          "base_uri": "https://localhost:8080/"
        },
        "outputId": "5e55aeb1-bf56-4d3e-d7bf-27aca9574966"
      },
      "source": [
        "train_copy = data_train\n",
        "var_thresh = VarianceThreshold(0.8)\n",
        "data = data_train.append(data_test)\n",
        "data_transformed = var_thresh.fit_transform(data.iloc[:, 4:])\n",
        "data_transformed.shape"
      ],
      "execution_count": 34,
      "outputs": [
        {
          "output_type": "execute_result",
          "data": {
            "text/plain": [
              "(27796, 1022)"
            ]
          },
          "metadata": {
            "tags": []
          },
          "execution_count": 34
        }
      ]
    },
    {
      "cell_type": "code",
      "metadata": {
        "id": "Mt1kT7TyeRnV"
      },
      "source": [
        "train_df_trans = data_transformed[ : data_train.shape[0]]\n",
        "test_df_trans = data_transformed[-data_test.shape[0] : ]\n",
        "\n",
        "data_train = pd.DataFrame(data_train[['sig_id', 'cp_type', 'cp_time', 'cp_dose']].\n",
        "                        values.reshape(-1, 4), columns = ['sig_id', 'cp_type', \n",
        "                                                          'cp_time', 'cp_dose'])\n",
        "# data_train.head\n",
        "data_train = pd.concat([data_train, pd.DataFrame(train_df_trans)], axis = 1)\n",
        "\n",
        "\n",
        "data_test = pd.DataFrame(data_test[['sig_id', 'cp_type', 'cp_time', 'cp_dose']].\n",
        "                       values.reshape(-1, 4), columns = ['sig_id', 'cp_type', \n",
        "                                                         'cp_time', 'cp_dose'])\n",
        "# data_train.head\n",
        "data_test = pd.concat([data_test, pd.DataFrame(test_df_trans)], axis = 1)\n",
        "# data_train.head"
      ],
      "execution_count": 35,
      "outputs": []
    },
    {
      "cell_type": "code",
      "metadata": {
        "id": "RdNyeb33pzF-"
      },
      "source": [
        "def preprocess_df(data):\n",
        "  # data['cp_type'] = (data['cp_type'] == 'trt_cp').astype(int)\n",
        "  # data['cp_dose'] = (data['cp_dose'] == 'D2').astype(int)\n",
        "  data.drop(['cp_type'], axis = 1, inplace = True)\n",
        "  data.loc[:, 'cp_dose'] = data.loc[:, 'cp_dose'].map({'D1':0, 'D2':1})\n",
        "  data.loc[:, 'cp_time'] = data.loc[:, 'cp_time'].map({24:0, 48:1, 72:2})\n",
        "  return data"
      ],
      "execution_count": 37,
      "outputs": []
    },
    {
      "cell_type": "code",
      "metadata": {
        "id": "iIz-efmeqG97",
        "colab": {
          "base_uri": "https://localhost:8080/"
        },
        "outputId": "44ae2c16-6663-4968-ff5f-b79b6cc1acd2"
      },
      "source": [
        "x_train = preprocess_df(data_train.drop(columns = \"sig_id\"))\n",
        "x_test = preprocess_df(data_test.drop(columns = \"sig_id\"))\n",
        "y_train = targetscored.drop(columns = \"sig_id\")\n",
        "y_test = targetns.drop(columns = \"sig_id\")\n",
        "print(y_test.shape)\n",
        "N_FEATURES = x_train.shape[1]"
      ],
      "execution_count": 38,
      "outputs": [
        {
          "output_type": "stream",
          "text": [
            "(23814, 402)\n"
          ],
          "name": "stdout"
        }
      ]
    },
    {
      "cell_type": "code",
      "metadata": {
        "id": "xytYuIpmqnTZ"
      },
      "source": [
        "x_train = x_train.astype({'cp_time':int})\n",
        "x_test = x_test.astype({'cp_time':int})\n",
        "x_train_validation = x_train.copy()\n",
        "# x_train"
      ],
      "execution_count": 39,
      "outputs": []
    },
    {
      "cell_type": "code",
      "metadata": {
        "id": "6Pa34J9WZs9y"
      },
      "source": [
        "def create_model(col_num):\n",
        "  model = tf.keras.Sequential()\n",
        "  model.add(tf.keras.layers.Input(col_num))\n",
        "  model.add(tf.keras.layers.BatchNormalization())\n",
        "  model.add(tf.keras.layers.Dropout(0.5))\n",
        "  model.add(tfa.layers.WeightNormalization(tf.keras.layers.Dense(6144, \n",
        "                                                                 activation = \"relu\")))\n",
        "  model.add(tf.keras.layers.BatchNormalization())\n",
        "  model.add(tf.keras.layers.Dropout(0.5))\n",
        "  model.add(tfa.layers.WeightNormalization(tf.keras.layers.Dense(6144, \n",
        "                                                                 activation = \"relu\")))\n",
        "  model.add(tf.keras.layers.BatchNormalization())\n",
        "  model.add(tf.keras.layers.Dropout(0.5))\n",
        "  model.add(tfa.layers.WeightNormalization(tf.keras.layers.Dense(206, \n",
        "                                                                 activation = \"sigmoid\")))\n",
        "  model.compile(optimizer = tf.keras.optimizers.Adam(learning_rate = 0.0005), \n",
        "                loss = 'binary_crossentropy', metrics = [\"accuracy\"])\n",
        "  return model"
      ],
      "execution_count": 40,
      "outputs": []
    },
    {
      "cell_type": "code",
      "metadata": {
        "id": "nsBfRn_xRDDC"
      },
      "source": [
        "def build_train(repeat_number = 0, folds = 5):\n",
        "  models = []\n",
        "  predicted_values = y_train.copy()\n",
        "  kfold = KFold(n_splits = folds, shuffle = True)\n",
        "  for fold, (ti, vi) in enumerate(kfold.split(x_train)):\n",
        "    print('Training fold: ', fold)\n",
        "    model_save = f'model:{repeat_number}_{fold}.hdf5'\n",
        "    callback_1 = tf.keras.callbacks.ModelCheckpoint(model_save, \n",
        "                                                    monitor = 'val_loss', \n",
        "                                                    verbose = 2,\n",
        "                                                    save_best_only = True, \n",
        "                                                    save_weights_only = True, \n",
        "                                                    mode = 'min')\n",
        "    \n",
        "    callback_2 = tf.keras.callbacks.ReduceLROnPlateau(monitor = 'val_loss', \n",
        "                                                          factor = 0.4, \n",
        "                                                          patience = 2, \n",
        "                                                          verbose = 1, \n",
        "                                                          min_delta = 0.0001, \n",
        "                                                          mode = 'auto')   \n",
        "    \n",
        "    # callback_3 = tf.keras.callbacks.EarlyStopping(monitor = 'val_accuracy', \n",
        "    #                                               verbose = 2, mode = 'max', \n",
        "    #                                               min_delta = 0.01)\n",
        "\n",
        "    model = create_model(N_FEATURES)\n",
        "    training_history = model.fit(x_train.values[ti], \n",
        "                                 y_train.values[ti], \n",
        "              validation_data = (x_train.values[vi], y_train.values[vi]),\n",
        "              callbacks = [callback_1, callback_2], epochs = 25, \n",
        "              batch_size = 128, verbose = 2)\n",
        "    model.load_weights(model_save)\n",
        "    predicted_values.loc[vi, :] = model.predict(x_train.values[vi])\n",
        "    models.append(model)\n",
        "    print('train:')\n",
        "    print(list(zip(model.metrics_names, model.evaluate(x_train.values[ti], \n",
        "                                                       y_train.values[ti], \n",
        "                                                       verbose = 0, \n",
        "                                                       batch_size = 32))))\n",
        "    print('val:')\n",
        "    print(list(zip(model.metrics_names, model.evaluate(x_train.values[vi], \n",
        "                                                       y_train.values[vi], \n",
        "                                                       verbose = 0, \n",
        "                                                       batch_size = 32))))\n",
        "    return models, predicted_values, training_history\n",
        "  "
      ],
      "execution_count": 44,
      "outputs": []
    },
    {
      "cell_type": "code",
      "metadata": {
        "id": "rh4Y1LfDVHnm",
        "colab": {
          "base_uri": "https://localhost:8080/"
        },
        "outputId": "dda4b721-bddd-4a5b-dbbd-0abb1da3acd5"
      },
      "source": [
        "model = create_model(col_num = N_FEATURES)\n",
        "model.summary()"
      ],
      "execution_count": 42,
      "outputs": [
        {
          "output_type": "stream",
          "text": [
            "Model: \"sequential\"\n",
            "_________________________________________________________________\n",
            "Layer (type)                 Output Shape              Param #   \n",
            "=================================================================\n",
            "batch_normalization (BatchNo (None, 1024)              4096      \n",
            "_________________________________________________________________\n",
            "dropout (Dropout)            (None, 1024)              0         \n",
            "_________________________________________________________________\n",
            "weight_normalization (Weight (None, 6144)              12601345  \n",
            "_________________________________________________________________\n",
            "batch_normalization_1 (Batch (None, 6144)              24576     \n",
            "_________________________________________________________________\n",
            "dropout_1 (Dropout)          (None, 6144)              0         \n",
            "_________________________________________________________________\n",
            "weight_normalization_1 (Weig (None, 6144)              75515905  \n",
            "_________________________________________________________________\n",
            "batch_normalization_2 (Batch (None, 6144)              24576     \n",
            "_________________________________________________________________\n",
            "dropout_2 (Dropout)          (None, 6144)              0         \n",
            "_________________________________________________________________\n",
            "weight_normalization_2 (Weig (None, 206)               2531947   \n",
            "=================================================================\n",
            "Total params: 90,702,445\n",
            "Trainable params: 45,357,468\n",
            "Non-trainable params: 45,344,977\n",
            "_________________________________________________________________\n"
          ],
          "name": "stdout"
        }
      ]
    },
    {
      "cell_type": "code",
      "metadata": {
        "id": "jYphaA8kSYbY"
      },
      "source": [
        "models = []\n",
        "all_predicted = []\n",
        "np.random.seed(11)\n",
        "os.environ['PYTHONHASHSEED'] = str(11)\n",
        "tf.random.set_seed(SEED)\n",
        "# SEED_ARRAY = [0, 1, 2, 3, 4]\n",
        "for i in range(5):\n",
        "  m_temp, pred_new, history = build_train(repeat_number = i, folds = FOLDS)  \n",
        "  all_predicted.append(pred_new)\n",
        "  models = models + m_temp"
      ],
      "execution_count": null,
      "outputs": []
    },
    {
      "cell_type": "code",
      "metadata": {
        "colab": {
          "base_uri": "https://localhost:8080/",
          "height": 283
        },
        "id": "qpQSh1SDEwIH",
        "outputId": "8022a9cc-b5b0-4a0c-ca11-d4cc8d2f447d"
      },
      "source": [
        "history.history['loss']\n",
        "import matplotlib.pyplot as plt\n",
        "plt.plot(history.history['loss'])\n",
        "plt.plot(history.history['val_loss'])"
      ],
      "execution_count": 26,
      "outputs": [
        {
          "output_type": "execute_result",
          "data": {
            "text/plain": [
              "[<matplotlib.lines.Line2D at 0x7fb4f147d780>]"
            ]
          },
          "metadata": {
            "tags": []
          },
          "execution_count": 26
        },
        {
          "output_type": "display_data",
          "data": {
            "image/png": "[encoded data removed]",
            "text/plain": [
              "<Figure size 432x288 with 1 Axes>"
            ]
          },
          "metadata": {
            "tags": [],
            "needs_background": "light"
          }
        }
      ]
    },
    {
      "cell_type": "code",
      "metadata": {
        "colab": {
          "base_uri": "https://localhost:8080/",
          "height": 283
        },
        "id": "STrZGKE_Fsht",
        "outputId": "3810d8aa-0e1e-43b3-dd3f-a0a4948ea8de"
      },
      "source": [
        "plt.plot(history.history['accuracy'])\n",
        "plt.plot(history.history['val_accuracy'])"
      ],
      "execution_count": 27,
      "outputs": [
        {
          "output_type": "execute_result",
          "data": {
            "text/plain": [
              "[<matplotlib.lines.Line2D at 0x7fb4f147df98>]"
            ]
          },
          "metadata": {
            "tags": []
          },
          "execution_count": 27
        },
        {
          "output_type": "display_data",
          "data": {
            "image/png": "[encoded data removed]",
            "text/plain": [
              "<Figure size 432x288 with 1 Axes>"
            ]
          },
          "metadata": {
            "tags": [],
            "needs_background": "light"
          }
        }
      ]
    },
    {
      "cell_type": "code",
      "metadata": {
        "id": "W43c7U9vV8Uf"
      },
      "source": [
        "def new_log_loss(y_tr, y_pr):\r\n",
        "  y_tr = y_tr.astype(np.float16)\r\n",
        "  y_pr = y_pr.astype(np.float16)\r\n",
        "  N, M = y_pr.shape\r\n",
        "  loss = []\r\n",
        "\r\n",
        "  for m in range(M):\r\n",
        "    loss_temp = 0\r\n",
        "    for i in range(N):\r\n",
        "      loss_temp -= ((y_tr[i,m]*np.log(y_pr[i,m]))+((1.0-y_tr[i,m])*np.log(1.0-y_pr[i,m])))\r\n",
        "    loss_temp = loss_temp/N\r\n",
        "    loss.append(loss_temp)\r\n",
        "    cleaned_loss = [l for l in loss if str(l) != 'nan']\r\n",
        "  return np.mean(cleaned_loss)\r\n"
      ],
      "execution_count": 28,
      "outputs": []
    },
    {
      "cell_type": "code",
      "metadata": {
        "colab": {
          "base_uri": "https://localhost:8080/"
        },
        "id": "93kD0BskZU0N",
        "outputId": "90d2474e-61bd-484d-aa65-4051e14cbc15"
      },
      "source": [
        "log_loss = 0.0\r\n",
        "count = 0\r\n",
        "y_tr_temp = y_train.to_numpy()\r\n",
        "for model in models:\r\n",
        "  y_pred = model.predict(x_train)\r\n",
        "  log_loss = log_loss + new_log_loss(y_tr_temp, y_pred)\r\n",
        "  count = count + 1\r\n",
        "print(\"Log loss: \", str(log_loss/count))"
      ],
      "execution_count": 29,
      "outputs": [
        {
          "output_type": "stream",
          "text": [
            "/usr/local/lib/python3.6/dist-packages/ipykernel_launcher.py:10: RuntimeWarning: divide by zero encountered in log\n",
            "  # Remove the CWD from sys.path while we load stuff.\n",
            "/usr/local/lib/python3.6/dist-packages/ipykernel_launcher.py:10: RuntimeWarning: invalid value encountered in half_scalars\n",
            "  # Remove the CWD from sys.path while we load stuff.\n",
            "/usr/local/lib/python3.6/dist-packages/ipykernel_launcher.py:10: RuntimeWarning: invalid value encountered in double_scalars\n",
            "  # Remove the CWD from sys.path while we load stuff.\n",
            "/usr/local/lib/python3.6/dist-packages/ipykernel_launcher.py:10: RuntimeWarning: divide by zero encountered in log\n",
            "  # Remove the CWD from sys.path while we load stuff.\n",
            "/usr/local/lib/python3.6/dist-packages/ipykernel_launcher.py:10: RuntimeWarning: invalid value encountered in half_scalars\n",
            "  # Remove the CWD from sys.path while we load stuff.\n",
            "/usr/local/lib/python3.6/dist-packages/ipykernel_launcher.py:10: RuntimeWarning: invalid value encountered in double_scalars\n",
            "  # Remove the CWD from sys.path while we load stuff.\n",
            "/usr/local/lib/python3.6/dist-packages/ipykernel_launcher.py:10: RuntimeWarning: divide by zero encountered in log\n",
            "  # Remove the CWD from sys.path while we load stuff.\n",
            "/usr/local/lib/python3.6/dist-packages/ipykernel_launcher.py:10: RuntimeWarning: invalid value encountered in half_scalars\n",
            "  # Remove the CWD from sys.path while we load stuff.\n",
            "/usr/local/lib/python3.6/dist-packages/ipykernel_launcher.py:10: RuntimeWarning: invalid value encountered in double_scalars\n",
            "  # Remove the CWD from sys.path while we load stuff.\n",
            "/usr/local/lib/python3.6/dist-packages/ipykernel_launcher.py:10: RuntimeWarning: divide by zero encountered in log\n",
            "  # Remove the CWD from sys.path while we load stuff.\n",
            "/usr/local/lib/python3.6/dist-packages/ipykernel_launcher.py:10: RuntimeWarning: invalid value encountered in half_scalars\n",
            "  # Remove the CWD from sys.path while we load stuff.\n",
            "/usr/local/lib/python3.6/dist-packages/ipykernel_launcher.py:10: RuntimeWarning: invalid value encountered in double_scalars\n",
            "  # Remove the CWD from sys.path while we load stuff.\n",
            "/usr/local/lib/python3.6/dist-packages/ipykernel_launcher.py:10: RuntimeWarning: divide by zero encountered in log\n",
            "  # Remove the CWD from sys.path while we load stuff.\n",
            "/usr/local/lib/python3.6/dist-packages/ipykernel_launcher.py:10: RuntimeWarning: invalid value encountered in half_scalars\n",
            "  # Remove the CWD from sys.path while we load stuff.\n",
            "/usr/local/lib/python3.6/dist-packages/ipykernel_launcher.py:10: RuntimeWarning: invalid value encountered in double_scalars\n",
            "  # Remove the CWD from sys.path while we load stuff.\n"
          ],
          "name": "stderr"
        },
        {
          "output_type": "stream",
          "text": [
            "Log loss:  0.020528204359036326\n"
          ],
          "name": "stdout"
        }
      ]
    }
  ]
}