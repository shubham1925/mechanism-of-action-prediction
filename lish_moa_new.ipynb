{
  "nbformat": 4,
  "nbformat_minor": 0,
  "metadata": {
    "colab": {
      "name": "lish_moa_new.ipynb",
      "provenance": [],
      "collapsed_sections": []
    },
    "kernelspec": {
      "name": "python3",
      "display_name": "Python 3"
    },
    "accelerator": "GPU"
  },
  "cells": [
    {
      "cell_type": "code",
      "metadata": {
        "id": "eeY8zdHrs7LP",
        "colab": {
          "base_uri": "https://localhost:8080/"
        },
        "outputId": "3886c65b-6349-4ac1-b2b7-ad3c51584fa3"
      },
      "source": [
        "from google.colab import drive\n",
        "drive.mount('/content/drive')"
      ],
      "execution_count": 1,
      "outputs": [
        {
          "output_type": "stream",
          "text": [
            "Mounted at /content/drive\n"
          ],
          "name": "stdout"
        }
      ]
    },
    {
      "cell_type": "code",
      "metadata": {
        "id": "I1MOLBLWX4-d"
      },
      "source": [
        "import numpy as np\n",
        "import pandas as pd\n",
        "from sklearn.model_selection import KFold\n",
        "from sklearn.metrics import log_loss\n",
        "from sklearn.decomposition import PCA\n",
        "\n",
        "import tensorflow as tf\n",
        "import tensorflow_addons as tfa\n",
        "import tensorflow.keras.backend as K\n",
        "import tensorflow.keras.layers as L\n",
        "import tensorflow.keras.models as M\n",
        "import time\n",
        "import sys\n",
        "import os"
      ],
      "execution_count": 2,
      "outputs": []
    },
    {
      "cell_type": "code",
      "metadata": {
        "id": "kESwrSmI2RJK"
      },
      "source": [
        "train_df = pd.read_csv('/content/drive/MyDrive/lish-moa/train_features.csv')\n",
        "test_df = pd.read_csv('/content/drive/MyDrive/lish-moa/test_features.csv')\n",
        "targetns = pd.read_csv('/content/drive/MyDrive/lish-moa/train_targets_nonscored.csv')\n",
        "train_target_df = pd.read_csv('/content/drive/MyDrive/lish-moa/train_targets_scored.csv')\n",
        "sub = pd.read_csv('/content/drive/MyDrive/lish-moa/sample_submission.csv')"
      ],
      "execution_count": 3,
      "outputs": []
    },
    {
      "cell_type": "code",
      "metadata": {
        "colab": {
          "base_uri": "https://localhost:8080/"
        },
        "id": "fVDxQfKS3AXe",
        "outputId": "57636cb5-6a5f-4605-9389-2789137d218b"
      },
      "source": [
        "target_cols = train_target_df.columns[1:]\n",
        "N_TARGETS = len(target_cols)\n",
        "print(train_df.shape)"
      ],
      "execution_count": 4,
      "outputs": [
        {
          "output_type": "stream",
          "text": [
            "(23814, 876)\n"
          ],
          "name": "stdout"
        }
      ]
    },
    {
      "cell_type": "code",
      "metadata": {
        "id": "b4Nvks1Z--8o"
      },
      "source": [
        "cells = [col for col in train_df.columns if col.startswith('c-')]\n",
        "genes = [col for col in train_df.columns if col.startswith('g-')]"
      ],
      "execution_count": 5,
      "outputs": []
    },
    {
      "cell_type": "code",
      "metadata": {
        "id": "2De-DZaFa5-3"
      },
      "source": [
        "# For g- features\n",
        "n_comp = 50\n",
        "data = pd.concat([pd.DataFrame(train_df[genes]), pd.DataFrame(test_df[genes])])\n",
        "data2 = (PCA(n_components = 50, random_state = 100).fit_transform(data[genes]))\n",
        "train2 = data2[:train_df.shape[0]]\n",
        "test2 = data2[-test_df.shape[0]:]\n",
        "\n",
        "train2 = pd.DataFrame(train2, columns = [f'pca_G-{i}' for i in range(50)])\n",
        "test2 = pd.DataFrame(test2, columns = [f'pca_G-{i}' for i in range(50)])\n",
        "\n",
        "train_df = pd.concat((train_df, train2), axis = 1)\n",
        "test_df = pd.concat((test_df, test2), axis = 1)"
      ],
      "execution_count": 6,
      "outputs": []
    },
    {
      "cell_type": "code",
      "metadata": {
        "id": "YPGwe49ac8CM"
      },
      "source": [
        "# For c- features\n",
        "data = pd.concat([pd.DataFrame(train_df[cells]), pd.DataFrame(test_df[cells])])\n",
        "data2 = (PCA(n_components = 15, random_state = 100).fit_transform(data[cells]))\n",
        "train2 = data2[:train_df.shape[0]]\n",
        "test2 = data2[-test_df.shape[0]:]\n",
        "\n",
        "train2 = pd.DataFrame(train2, columns = [f'pca_C-{i}' for i in range(15)])\n",
        "test2 = pd.DataFrame(test2, columns = [f'pca_C-{i}' for i in range(15)])\n",
        "train_df = pd.concat((train_df, train2), axis = 1)\n",
        "test_df = pd.concat((test_df, test2), axis = 1)\n",
        "# train_df"
      ],
      "execution_count": 7,
      "outputs": []
    },
    {
      "cell_type": "code",
      "metadata": {
        "id": "1YlRDw0xdiof",
        "colab": {
          "base_uri": "https://localhost:8080/"
        },
        "outputId": "702c2355-547d-48fa-806c-fc32c2002eb2"
      },
      "source": [
        "from sklearn.feature_selection import VarianceThreshold\n",
        "\n",
        "train_copy = train_df\n",
        "var_thresh = VarianceThreshold(0.8)\n",
        "data = train_df.append(test_df)\n",
        "data_transformed = var_thresh.fit_transform(data.iloc[:, 4:])\n",
        "data_transformed.shape"
      ],
      "execution_count": 8,
      "outputs": [
        {
          "output_type": "execute_result",
          "data": {
            "text/plain": [
              "(27796, 868)"
            ]
          },
          "metadata": {
            "tags": []
          },
          "execution_count": 8
        }
      ]
    },
    {
      "cell_type": "code",
      "metadata": {
        "id": "Mt1kT7TyeRnV"
      },
      "source": [
        "train_df_trans = data_transformed[ : train_df.shape[0]]\n",
        "test_df_trans = data_transformed[-test_df.shape[0] : ]\n",
        "\n",
        "train_df = pd.DataFrame(train_df[['sig_id', 'cp_type', 'cp_time', 'cp_dose']].values.reshape(-1, 4), columns = ['sig_id', 'cp_type', 'cp_time', 'cp_dose'])\n",
        "# train_df.head\n",
        "train_df = pd.concat([train_df, pd.DataFrame(train_df_trans)], axis = 1)\n",
        "\n",
        "\n",
        "test_df = pd.DataFrame(test_df[['sig_id', 'cp_type', 'cp_time', 'cp_dose']].values.reshape(-1, 4), columns = ['sig_id', 'cp_type', 'cp_time', 'cp_dose'])\n",
        "# train_df.head\n",
        "test_df = pd.concat([test_df, pd.DataFrame(test_df_trans)], axis = 1)\n",
        "# train_df.head"
      ],
      "execution_count": 10,
      "outputs": []
    },
    {
      "cell_type": "code",
      "metadata": {
        "id": "4jufWOrsjd_x"
      },
      "source": [
        "search_row = dict(train_copy.iloc[0, 4:])\n",
        "col_rela = {}\n",
        "for i in np.arange(0, 868):\n",
        "  for k, v in search_row.items():\n",
        "    if train_df[i][0] == v.all():\n",
        "      col_rela[i] = k\n",
        "train_df = train_df.rename(columns = col_rela)\n",
        "test_df = test_df.rename(columns = col_rela)\n"
      ],
      "execution_count": 11,
      "outputs": []
    },
    {
      "cell_type": "code",
      "metadata": {
        "id": "P8Mda3w8n7Sc"
      },
      "source": [
        "SEED = 1925\n",
        "EPOCHS = 25\n",
        "BATCH_SIZE = 128\n",
        "FOLDS = 5\n",
        "REPEATS = 5\n",
        "LR = 0.0005\n",
        "N_TARGETS = len(target_cols)"
      ],
      "execution_count": 12,
      "outputs": []
    },
    {
      "cell_type": "code",
      "metadata": {
        "id": "9M1_8ksBo2LD"
      },
      "source": [
        "def seed_everything(seed):\n",
        "  np.random.seed(seed)\n",
        "  os.environ['PYTHONHASHSEED'] = str(seed)\n",
        "  tf.random.set_seed(seed)"
      ],
      "execution_count": 13,
      "outputs": []
    },
    {
      "cell_type": "code",
      "metadata": {
        "id": "QJ41d27KpHFN"
      },
      "source": [
        "def multi_log_loss(y_true, y_pred):\n",
        "  losses = []\n",
        "  for col in y_true.columns:\n",
        "    losses.append(log_loss(y_true.loc[:, col], y_pred.loc[:, col]))\n",
        "  return np.mean(losses)"
      ],
      "execution_count": 14,
      "outputs": []
    },
    {
      "cell_type": "code",
      "metadata": {
        "id": "RdNyeb33pzF-"
      },
      "source": [
        "def preprocess_df(data):\n",
        "  # data['cp_type'] = (data['cp_type'] == 'trt_cp').astype(int)\n",
        "  # data['cp_dose'] = (data['cp_dose'] == 'D2').astype(int)\n",
        "  data.drop(['cp_type'], axis = 1, inplace = True)\n",
        "  data.loc[:, 'cp_dose'] = data.loc[:, 'cp_dose'].map({'D1':0, 'D2':1})\n",
        "  data.loc[:, 'cp_time'] = data.loc[:, 'cp_time'].map({24:0, 48:1, 72:2})\n",
        "  return data"
      ],
      "execution_count": 15,
      "outputs": []
    },
    {
      "cell_type": "code",
      "metadata": {
        "id": "iIz-efmeqG97"
      },
      "source": [
        "x_train = preprocess_df(train_df.drop(columns = \"sig_id\"))\n",
        "x_test = preprocess_df(test_df.drop(columns = \"sig_id\"))\n",
        "y_train = train_target_df.drop(columns = \"sig_id\")\n",
        "N_FEATURES = x_train.shape[1]"
      ],
      "execution_count": 16,
      "outputs": []
    },
    {
      "cell_type": "code",
      "metadata": {
        "id": "xytYuIpmqnTZ"
      },
      "source": [
        "x_train = x_train.astype({'cp_time':int})\n",
        "x_test = x_test.astype({'cp_time':int})\n",
        "# x_train"
      ],
      "execution_count": 17,
      "outputs": []
    },
    {
      "cell_type": "code",
      "metadata": {
        "id": "6Pa34J9WZs9y"
      },
      "source": [
        "def create_model():\n",
        "  # model = tf.keras.Sequential([tf.keras.layers.Input(N_FEATURES), tf.keras.layers.BatchNormalization(),\n",
        "  #                              tf.keras.layers.Dropout(0.2), \n",
        "  #                              tfa.layers.WeightNormalization(tf.keras.layers.Dense(2048, activation = \"relu\")),\n",
        "  #                              tf.keras.layers.BatchNormalization(), tf.keras.layers.Dropout(0.5), \n",
        "  #                              tfa.layers.WeightNormalization(tf.keras.layers.Dense(2048, activation = \"relu\")),\n",
        "  #                              tf.keras.layers.BatchNormalization(), tf.keras.layers.Dropout(0.5),\n",
        "  #                              tfa.layers.WeightNormalization(tf.keras.layers.Dense(N_TARGETS, activation = \"sigmoid\"))])\n",
        "  model = tf.keras.Sequential()\n",
        "  model.add(tf.keras.layers.Input(N_FEATURES))\n",
        "  model.add(tf.keras.layers.BatchNormalization())\n",
        "  model.add(tf.keras.layers.Dropout(0.2))\n",
        "  model.add(tfa.layers.WeightNormalization(tf.keras.layers.Dense(2048, activation = \"relu\")))\n",
        "  model.add(tf.keras.layers.BatchNormalization())\n",
        "  model.add(tf.keras.layers.Dropout(0.5))\n",
        "  model.add(tfa.layers.WeightNormalization(tf.keras.layers.Dense(2048, activation = \"relu\")))\n",
        "  model.add(tf.keras.layers.BatchNormalization())\n",
        "  model.add(tf.keras.layers.Dropout(0.5))\n",
        "  model.add(tfa.layers.WeightNormalization(tf.keras.layers.Dense(N_TARGETS, activation = \"sigmoid\")))\n",
        "  model.compile(optimizer = tf.keras.optimizers.Adam(learning_rate = LR), loss = 'binary_crossentropy', metrics = [\"accuracy\"])\n",
        "  return model"
      ],
      "execution_count": 18,
      "outputs": []
    },
    {
      "cell_type": "code",
      "metadata": {
        "id": "nsBfRn_xRDDC"
      },
      "source": [
        "def build_train(resume_models = None, repeat_number = 0, folds = 5, skip_folds = 0):\n",
        "  models = []\n",
        "  oof_preds = y_train.copy()\n",
        "  kfold = KFold(n_splits = folds, shuffle = True)\n",
        "  for fold, (train_ind, val_ind) in enumerate(kfold.split(x_train)):\n",
        "    print(f'Training fold {fold + 1}')\n",
        "    fold = fold + 1\n",
        "    cb_lr_schedule = tf.keras.callbacks.ReduceLROnPlateau(monitor = 'val_loss', \n",
        "                                                          factor = 0.4, patience = 2, \n",
        "                                                          verbose = 1, min_delta = 0.0001, \n",
        "                                                          mode = 'auto')\n",
        "    checkpoint_path = f'repeat:{repeat_number}_Fold:{fold}.hdf5'\n",
        "    cb_checkpt = tf.keras.callbacks.ModelCheckpoint(checkpoint_path, monitor = 'val_loss', \n",
        "                                                    verbose = 0,\n",
        "                                                    save_best_only = True, save_weights_only = True, \n",
        "                                                    mode = 'min')\n",
        "    model = create_model()\n",
        "    training_history = model.fit(x_train.values[train_ind], y_train.values[train_ind], \n",
        "              validation_data = (x_train.values[val_ind], y_train.values[val_ind]),\n",
        "              callbacks = [cb_lr_schedule, cb_checkpt], epochs = EPOCHS, batch_size = BATCH_SIZE, verbose = 2)\n",
        "    model.load_weights(checkpoint_path)\n",
        "    oof_preds.loc[val_ind, :] = model.predict(x_train.values[val_ind])\n",
        "    models.append(model)\n",
        "    print('train:')\n",
        "    print(list(zip(model.metrics_names, model.evaluate(x_train.values[train_ind], y_train.values[train_ind], verbose = 0, batch_size = 32))))\n",
        "    print('val:')\n",
        "    print(list(zip(model.metrics_names, model.evaluate(x_train.values[train_ind], y_train.values[train_ind], verbose = 0, batch_size = 32))))\n",
        "    return models, oof_preds, training_history\n",
        "  "
      ],
      "execution_count": 19,
      "outputs": []
    },
    {
      "cell_type": "code",
      "metadata": {
        "id": "rh4Y1LfDVHnm",
        "colab": {
          "base_uri": "https://localhost:8080/"
        },
        "outputId": "a400901c-43c8-4732-f054-30b33096a137"
      },
      "source": [
        "model = create_model()\n",
        "model.summary()"
      ],
      "execution_count": 20,
      "outputs": [
        {
          "output_type": "stream",
          "text": [
            "Model: \"sequential\"\n",
            "_________________________________________________________________\n",
            "Layer (type)                 Output Shape              Param #   \n",
            "=================================================================\n",
            "batch_normalization (BatchNo (None, 870)               3480      \n",
            "_________________________________________________________________\n",
            "dropout (Dropout)            (None, 870)               0         \n",
            "_________________________________________________________________\n",
            "weight_normalization (Weight (None, 2048)              3569665   \n",
            "_________________________________________________________________\n",
            "batch_normalization_1 (Batch (None, 2048)              8192      \n",
            "_________________________________________________________________\n",
            "dropout_1 (Dropout)          (None, 2048)              0         \n",
            "_________________________________________________________________\n",
            "weight_normalization_1 (Weig (None, 2048)              8394753   \n",
            "_________________________________________________________________\n",
            "batch_normalization_2 (Batch (None, 2048)              8192      \n",
            "_________________________________________________________________\n",
            "dropout_2 (Dropout)          (None, 2048)              0         \n",
            "_________________________________________________________________\n",
            "weight_normalization_2 (Weig (None, 206)               844395    \n",
            "=================================================================\n",
            "Total params: 12,828,677\n",
            "Trainable params: 6,416,488\n",
            "Non-trainable params: 6,412,189\n",
            "_________________________________________________________________\n"
          ],
          "name": "stdout"
        }
      ]
    },
    {
      "cell_type": "code",
      "metadata": {
        "id": "jYphaA8kSYbY",
        "colab": {
          "base_uri": "https://localhost:8080/"
        },
        "outputId": "2f3b45cd-7770-49d6-bfa2-34f1164c4e26"
      },
      "source": [
        "models = []\n",
        "oof_preds = []\n",
        "# seed_everything(SEED)\n",
        "np.random.seed(SEED)\n",
        "os.environ['PYTHONHASHSEED'] = str(SEED)\n",
        "tf.random.set_seed(SEED)\n",
        "# SEED_ARRAY = [0, 1, 2, 3, 4]\n",
        "for i in range(REPEATS):\n",
        "  m, oof, history = build_train(repeat_number = i, folds = FOLDS)\n",
        "  models = models + m\n",
        "  oof_preds.append(oof)"
      ],
      "execution_count": 22,
      "outputs": [
        {
          "output_type": "stream",
          "text": [
            "Training fold 1\n",
            "Epoch 1/25\n",
            "149/149 - 2s - loss: 0.5672 - accuracy: 0.0261 - val_loss: 0.2215 - val_accuracy: 0.0516\n",
            "Epoch 2/25\n",
            "149/149 - 2s - loss: 0.1005 - accuracy: 0.0499 - val_loss: 0.0428 - val_accuracy: 0.0896\n",
            "Epoch 3/25\n",
            "149/149 - 2s - loss: 0.0329 - accuracy: 0.0706 - val_loss: 0.0248 - val_accuracy: 0.0873\n",
            "Epoch 4/25\n",
            "149/149 - 2s - loss: 0.0239 - accuracy: 0.0796 - val_loss: 0.0212 - val_accuracy: 0.0920\n",
            "Epoch 5/25\n",
            "149/149 - 2s - loss: 0.0208 - accuracy: 0.0885 - val_loss: 0.0192 - val_accuracy: 0.0792\n",
            "Epoch 6/25\n",
            "149/149 - 2s - loss: 0.0198 - accuracy: 0.0902 - val_loss: 0.0184 - val_accuracy: 0.0861\n",
            "Epoch 7/25\n",
            "149/149 - 2s - loss: 0.0186 - accuracy: 0.0964 - val_loss: 0.0179 - val_accuracy: 0.0907\n",
            "Epoch 8/25\n",
            "149/149 - 2s - loss: 0.0181 - accuracy: 0.1003 - val_loss: 0.0173 - val_accuracy: 0.0951\n",
            "Epoch 9/25\n",
            "149/149 - 2s - loss: 0.0176 - accuracy: 0.1055 - val_loss: 0.0171 - val_accuracy: 0.0997\n",
            "Epoch 10/25\n",
            "149/149 - 2s - loss: 0.0172 - accuracy: 0.1090 - val_loss: 0.0167 - val_accuracy: 0.1037\n",
            "Epoch 11/25\n",
            "149/149 - 2s - loss: 0.0169 - accuracy: 0.1115 - val_loss: 0.0164 - val_accuracy: 0.1079\n",
            "Epoch 12/25\n",
            "149/149 - 2s - loss: 0.0166 - accuracy: 0.1165 - val_loss: 0.0163 - val_accuracy: 0.1081\n",
            "Epoch 13/25\n",
            "149/149 - 2s - loss: 0.0163 - accuracy: 0.1213 - val_loss: 0.0162 - val_accuracy: 0.1119\n",
            "Epoch 14/25\n",
            "149/149 - 2s - loss: 0.0160 - accuracy: 0.1253 - val_loss: 0.0159 - val_accuracy: 0.1113\n",
            "Epoch 15/25\n",
            "149/149 - 2s - loss: 0.0157 - accuracy: 0.1300 - val_loss: 0.0159 - val_accuracy: 0.1148\n",
            "Epoch 16/25\n",
            "149/149 - 2s - loss: 0.0156 - accuracy: 0.1347 - val_loss: 0.0158 - val_accuracy: 0.1161\n",
            "Epoch 17/25\n",
            "149/149 - 2s - loss: 0.0154 - accuracy: 0.1390 - val_loss: 0.0156 - val_accuracy: 0.1190\n",
            "Epoch 18/25\n",
            "149/149 - 1s - loss: 0.0150 - accuracy: 0.1437 - val_loss: 0.0157 - val_accuracy: 0.1247\n",
            "Epoch 19/25\n",
            "149/149 - 2s - loss: 0.0147 - accuracy: 0.1499 - val_loss: 0.0154 - val_accuracy: 0.1251\n",
            "Epoch 20/25\n",
            "149/149 - 2s - loss: 0.0145 - accuracy: 0.1587 - val_loss: 0.0154 - val_accuracy: 0.1358\n",
            "Epoch 21/25\n",
            "149/149 - 2s - loss: 0.0142 - accuracy: 0.1672 - val_loss: 0.0153 - val_accuracy: 0.1274\n",
            "Epoch 22/25\n",
            "149/149 - 1s - loss: 0.0139 - accuracy: 0.1681 - val_loss: 0.0154 - val_accuracy: 0.1281\n",
            "Epoch 23/25\n",
            "\n",
            "Epoch 00023: ReduceLROnPlateau reducing learning rate to 0.00020000000949949026.\n",
            "149/149 - 2s - loss: 0.0137 - accuracy: 0.1747 - val_loss: 0.0152 - val_accuracy: 0.1298\n",
            "Epoch 24/25\n",
            "149/149 - 2s - loss: 0.0132 - accuracy: 0.1859 - val_loss: 0.0152 - val_accuracy: 0.1295\n",
            "Epoch 25/25\n",
            "149/149 - 2s - loss: 0.0129 - accuracy: 0.1966 - val_loss: 0.0152 - val_accuracy: 0.1298\n",
            "train:\n",
            "[('loss', 0.01119772344827652), ('accuracy', 0.2504330575466156)]\n",
            "val:\n",
            "[('loss', 0.01119772344827652), ('accuracy', 0.2504330575466156)]\n",
            "Training fold 1\n",
            "Epoch 1/25\n",
            "149/149 - 2s - loss: 0.5662 - accuracy: 0.0329 - val_loss: 0.2275 - val_accuracy: 0.0584\n",
            "Epoch 2/25\n",
            "149/149 - 2s - loss: 0.1011 - accuracy: 0.0595 - val_loss: 0.0403 - val_accuracy: 0.0901\n",
            "Epoch 3/25\n",
            "149/149 - 2s - loss: 0.0331 - accuracy: 0.0766 - val_loss: 0.0257 - val_accuracy: 0.0924\n",
            "Epoch 4/25\n",
            "149/149 - 2s - loss: 0.0239 - accuracy: 0.0881 - val_loss: 0.0213 - val_accuracy: 0.1012\n",
            "Epoch 5/25\n",
            "149/149 - 2s - loss: 0.0210 - accuracy: 0.0911 - val_loss: 0.0196 - val_accuracy: 0.0936\n",
            "Epoch 6/25\n",
            "149/149 - 2s - loss: 0.0195 - accuracy: 0.0972 - val_loss: 0.0187 - val_accuracy: 0.0913\n",
            "Epoch 7/25\n",
            "149/149 - 2s - loss: 0.0186 - accuracy: 0.1012 - val_loss: 0.0180 - val_accuracy: 0.1136\n",
            "Epoch 8/25\n",
            "149/149 - 2s - loss: 0.0179 - accuracy: 0.1090 - val_loss: 0.0176 - val_accuracy: 0.0905\n",
            "Epoch 9/25\n",
            "149/149 - 2s - loss: 0.0174 - accuracy: 0.1121 - val_loss: 0.0173 - val_accuracy: 0.0911\n",
            "Epoch 10/25\n",
            "149/149 - 2s - loss: 0.0170 - accuracy: 0.1162 - val_loss: 0.0171 - val_accuracy: 0.0974\n",
            "Epoch 11/25\n",
            "149/149 - 2s - loss: 0.0167 - accuracy: 0.1181 - val_loss: 0.0169 - val_accuracy: 0.1004\n",
            "Epoch 12/25\n",
            "149/149 - 2s - loss: 0.0163 - accuracy: 0.1250 - val_loss: 0.0166 - val_accuracy: 0.1027\n",
            "Epoch 13/25\n",
            "149/149 - 2s - loss: 0.0161 - accuracy: 0.1262 - val_loss: 0.0164 - val_accuracy: 0.1050\n",
            "Epoch 14/25\n",
            "149/149 - 2s - loss: 0.0159 - accuracy: 0.1309 - val_loss: 0.0164 - val_accuracy: 0.1060\n",
            "Epoch 15/25\n",
            "149/149 - 2s - loss: 0.0157 - accuracy: 0.1343 - val_loss: 0.0162 - val_accuracy: 0.1379\n",
            "Epoch 16/25\n",
            "149/149 - 2s - loss: 0.0156 - accuracy: 0.1428 - val_loss: 0.0162 - val_accuracy: 0.1140\n",
            "Epoch 17/25\n",
            "149/149 - 2s - loss: 0.0153 - accuracy: 0.1452 - val_loss: 0.0161 - val_accuracy: 0.1159\n",
            "Epoch 18/25\n",
            "149/149 - 2s - loss: 0.0149 - accuracy: 0.1484 - val_loss: 0.0160 - val_accuracy: 0.1184\n",
            "Epoch 19/25\n",
            "149/149 - 2s - loss: 0.0146 - accuracy: 0.1553 - val_loss: 0.0159 - val_accuracy: 0.1230\n",
            "Epoch 20/25\n",
            "\n",
            "Epoch 00020: ReduceLROnPlateau reducing learning rate to 0.00020000000949949026.\n",
            "149/149 - 1s - loss: 0.0144 - accuracy: 0.1624 - val_loss: 0.0160 - val_accuracy: 0.1243\n",
            "Epoch 21/25\n",
            "149/149 - 2s - loss: 0.0140 - accuracy: 0.1689 - val_loss: 0.0157 - val_accuracy: 0.1266\n",
            "Epoch 22/25\n",
            "149/149 - 2s - loss: 0.0138 - accuracy: 0.1736 - val_loss: 0.0156 - val_accuracy: 0.1283\n",
            "Epoch 23/25\n",
            "149/149 - 2s - loss: 0.0136 - accuracy: 0.1758 - val_loss: 0.0156 - val_accuracy: 0.1304\n",
            "Epoch 24/25\n",
            "149/149 - 2s - loss: 0.0134 - accuracy: 0.1809 - val_loss: 0.0156 - val_accuracy: 0.1295\n",
            "Epoch 25/25\n",
            "\n",
            "Epoch 00025: ReduceLROnPlateau reducing learning rate to 8.000000379979611e-05.\n",
            "149/149 - 2s - loss: 0.0132 - accuracy: 0.1844 - val_loss: 0.0156 - val_accuracy: 0.1342\n",
            "train:\n",
            "[('loss', 0.011689133942127228), ('accuracy', 0.2268122434616089)]\n",
            "val:\n",
            "[('loss', 0.011689133942127228), ('accuracy', 0.2268122434616089)]\n",
            "Training fold 1\n",
            "Epoch 1/25\n",
            "149/149 - 2s - loss: 0.5674 - accuracy: 0.0326 - val_loss: 0.2248 - val_accuracy: 0.0777\n",
            "Epoch 2/25\n",
            "149/149 - 2s - loss: 0.1019 - accuracy: 0.0562 - val_loss: 0.0412 - val_accuracy: 0.0529\n",
            "Epoch 3/25\n",
            "149/149 - 2s - loss: 0.0337 - accuracy: 0.0676 - val_loss: 0.0271 - val_accuracy: 0.0699\n",
            "Epoch 4/25\n",
            "149/149 - 2s - loss: 0.0240 - accuracy: 0.0824 - val_loss: 0.0214 - val_accuracy: 0.0792\n",
            "Epoch 5/25\n",
            "149/149 - 2s - loss: 0.0209 - accuracy: 0.0884 - val_loss: 0.0195 - val_accuracy: 0.1111\n",
            "Epoch 6/25\n",
            "149/149 - 2s - loss: 0.0194 - accuracy: 0.0956 - val_loss: 0.0185 - val_accuracy: 0.0863\n",
            "Epoch 7/25\n",
            "149/149 - 2s - loss: 0.0186 - accuracy: 0.0985 - val_loss: 0.0179 - val_accuracy: 0.0928\n",
            "Epoch 8/25\n",
            "149/149 - 2s - loss: 0.0179 - accuracy: 0.1035 - val_loss: 0.0179 - val_accuracy: 0.0920\n",
            "Epoch 9/25\n",
            "149/149 - 2s - loss: 0.0175 - accuracy: 0.1077 - val_loss: 0.0172 - val_accuracy: 0.0976\n",
            "Epoch 10/25\n",
            "149/149 - 2s - loss: 0.0170 - accuracy: 0.1088 - val_loss: 0.0170 - val_accuracy: 0.1008\n",
            "Epoch 11/25\n",
            "149/149 - 2s - loss: 0.0168 - accuracy: 0.1154 - val_loss: 0.0166 - val_accuracy: 0.1060\n",
            "Epoch 12/25\n",
            "149/149 - 2s - loss: 0.0166 - accuracy: 0.1192 - val_loss: 0.0165 - val_accuracy: 0.1062\n",
            "Epoch 13/25\n",
            "149/149 - 2s - loss: 0.0162 - accuracy: 0.1231 - val_loss: 0.0165 - val_accuracy: 0.1109\n",
            "Epoch 14/25\n",
            "149/149 - 2s - loss: 0.0160 - accuracy: 0.1263 - val_loss: 0.0164 - val_accuracy: 0.1121\n",
            "Epoch 15/25\n",
            "149/149 - 2s - loss: 0.0157 - accuracy: 0.1310 - val_loss: 0.0161 - val_accuracy: 0.1140\n",
            "Epoch 16/25\n",
            "149/149 - 2s - loss: 0.0154 - accuracy: 0.1344 - val_loss: 0.0159 - val_accuracy: 0.1209\n",
            "Epoch 17/25\n",
            "149/149 - 2s - loss: 0.0151 - accuracy: 0.1431 - val_loss: 0.0158 - val_accuracy: 0.1222\n",
            "Epoch 18/25\n",
            "149/149 - 2s - loss: 0.0149 - accuracy: 0.1464 - val_loss: 0.0156 - val_accuracy: 0.1268\n",
            "Epoch 19/25\n",
            "149/149 - 2s - loss: 0.0149 - accuracy: 0.1526 - val_loss: 0.0156 - val_accuracy: 0.1258\n",
            "Epoch 20/25\n",
            "\n",
            "Epoch 00020: ReduceLROnPlateau reducing learning rate to 0.00020000000949949026.\n",
            "149/149 - 2s - loss: 0.0144 - accuracy: 0.1541 - val_loss: 0.0156 - val_accuracy: 0.1283\n",
            "Epoch 21/25\n",
            "149/149 - 2s - loss: 0.0140 - accuracy: 0.1672 - val_loss: 0.0155 - val_accuracy: 0.1298\n",
            "Epoch 22/25\n",
            "149/149 - 1s - loss: 0.0138 - accuracy: 0.1731 - val_loss: 0.0155 - val_accuracy: 0.1316\n",
            "Epoch 23/25\n",
            "\n",
            "Epoch 00023: ReduceLROnPlateau reducing learning rate to 8.000000379979611e-05.\n",
            "149/149 - 2s - loss: 0.0137 - accuracy: 0.1765 - val_loss: 0.0154 - val_accuracy: 0.1339\n",
            "Epoch 24/25\n",
            "149/149 - 2s - loss: 0.0134 - accuracy: 0.1816 - val_loss: 0.0154 - val_accuracy: 0.1314\n",
            "Epoch 25/25\n",
            "149/149 - 2s - loss: 0.0133 - accuracy: 0.1804 - val_loss: 0.0153 - val_accuracy: 0.1329\n",
            "train:\n",
            "[('loss', 0.011941288597881794), ('accuracy', 0.22487008571624756)]\n",
            "val:\n",
            "[('loss', 0.011941288597881794), ('accuracy', 0.22487008571624756)]\n",
            "Training fold 1\n",
            "Epoch 1/25\n",
            "149/149 - 2s - loss: 0.5660 - accuracy: 0.0325 - val_loss: 0.2272 - val_accuracy: 0.0531\n",
            "Epoch 2/25\n",
            "149/149 - 2s - loss: 0.1020 - accuracy: 0.0526 - val_loss: 0.0410 - val_accuracy: 0.0825\n",
            "Epoch 3/25\n",
            "149/149 - 2s - loss: 0.0330 - accuracy: 0.0696 - val_loss: 0.0250 - val_accuracy: 0.0687\n",
            "Epoch 4/25\n",
            "149/149 - 2s - loss: 0.0241 - accuracy: 0.0813 - val_loss: 0.0216 - val_accuracy: 0.0777\n",
            "Epoch 5/25\n",
            "149/149 - 2s - loss: 0.0212 - accuracy: 0.0868 - val_loss: 0.0194 - val_accuracy: 0.1071\n",
            "Epoch 6/25\n",
            "149/149 - 2s - loss: 0.0196 - accuracy: 0.0950 - val_loss: 0.0189 - val_accuracy: 0.1142\n",
            "Epoch 7/25\n",
            "149/149 - 2s - loss: 0.0186 - accuracy: 0.0973 - val_loss: 0.0181 - val_accuracy: 0.1123\n",
            "Epoch 8/25\n",
            "149/149 - 2s - loss: 0.0180 - accuracy: 0.1059 - val_loss: 0.0177 - val_accuracy: 0.1216\n",
            "Epoch 9/25\n",
            "149/149 - 2s - loss: 0.0176 - accuracy: 0.1066 - val_loss: 0.0175 - val_accuracy: 0.1157\n",
            "Epoch 10/25\n",
            "149/149 - 2s - loss: 0.0171 - accuracy: 0.1134 - val_loss: 0.0170 - val_accuracy: 0.1155\n",
            "Epoch 11/25\n",
            "149/149 - 2s - loss: 0.0168 - accuracy: 0.1148 - val_loss: 0.0167 - val_accuracy: 0.1062\n",
            "Epoch 12/25\n",
            "149/149 - 2s - loss: 0.0165 - accuracy: 0.1208 - val_loss: 0.0166 - val_accuracy: 0.1102\n",
            "Epoch 13/25\n",
            "149/149 - 2s - loss: 0.0162 - accuracy: 0.1248 - val_loss: 0.0164 - val_accuracy: 0.1132\n",
            "Epoch 14/25\n",
            "149/149 - 2s - loss: 0.0159 - accuracy: 0.1291 - val_loss: 0.0163 - val_accuracy: 0.1211\n",
            "Epoch 15/25\n",
            "149/149 - 2s - loss: 0.0157 - accuracy: 0.1317 - val_loss: 0.0162 - val_accuracy: 0.1199\n",
            "Epoch 16/25\n",
            "149/149 - 2s - loss: 0.0154 - accuracy: 0.1372 - val_loss: 0.0160 - val_accuracy: 0.1251\n",
            "Epoch 17/25\n",
            "149/149 - 2s - loss: 0.0152 - accuracy: 0.1426 - val_loss: 0.0160 - val_accuracy: 0.1237\n",
            "Epoch 18/25\n",
            "149/149 - 2s - loss: 0.0151 - accuracy: 0.1457 - val_loss: 0.0159 - val_accuracy: 0.1394\n",
            "Epoch 19/25\n",
            "149/149 - 2s - loss: 0.0148 - accuracy: 0.1497 - val_loss: 0.0158 - val_accuracy: 0.1251\n",
            "Epoch 20/25\n",
            "149/149 - 2s - loss: 0.0145 - accuracy: 0.1547 - val_loss: 0.0157 - val_accuracy: 0.1279\n",
            "Epoch 21/25\n",
            "149/149 - 2s - loss: 0.0142 - accuracy: 0.1588 - val_loss: 0.0156 - val_accuracy: 0.1335\n",
            "Epoch 22/25\n",
            "\n",
            "Epoch 00022: ReduceLROnPlateau reducing learning rate to 0.00020000000949949026.\n",
            "149/149 - 1s - loss: 0.0141 - accuracy: 0.1664 - val_loss: 0.0157 - val_accuracy: 0.1356\n",
            "Epoch 23/25\n",
            "149/149 - 2s - loss: 0.0137 - accuracy: 0.1730 - val_loss: 0.0155 - val_accuracy: 0.1381\n",
            "Epoch 24/25\n",
            "149/149 - 2s - loss: 0.0134 - accuracy: 0.1803 - val_loss: 0.0155 - val_accuracy: 0.1379\n",
            "Epoch 25/25\n",
            "\n",
            "Epoch 00025: ReduceLROnPlateau reducing learning rate to 8.000000379979611e-05.\n",
            "149/149 - 2s - loss: 0.0132 - accuracy: 0.1860 - val_loss: 0.0154 - val_accuracy: 0.1386\n",
            "train:\n",
            "[('loss', 0.011637971736490726), ('accuracy', 0.2283344715833664)]\n",
            "val:\n",
            "[('loss', 0.011637971736490726), ('accuracy', 0.2283344715833664)]\n",
            "Training fold 1\n",
            "Epoch 1/25\n",
            "149/149 - 2s - loss: 0.5670 - accuracy: 0.0367 - val_loss: 0.2206 - val_accuracy: 0.0775\n",
            "Epoch 2/25\n",
            "149/149 - 2s - loss: 0.1022 - accuracy: 0.0551 - val_loss: 0.0394 - val_accuracy: 0.0628\n",
            "Epoch 3/25\n",
            "149/149 - 2s - loss: 0.0335 - accuracy: 0.0745 - val_loss: 0.0251 - val_accuracy: 0.0978\n",
            "Epoch 4/25\n",
            "149/149 - 2s - loss: 0.0241 - accuracy: 0.0857 - val_loss: 0.0213 - val_accuracy: 0.1064\n",
            "Epoch 5/25\n",
            "149/149 - 2s - loss: 0.0211 - accuracy: 0.0925 - val_loss: 0.0201 - val_accuracy: 0.1119\n",
            "Epoch 6/25\n",
            "149/149 - 2s - loss: 0.0197 - accuracy: 0.0970 - val_loss: 0.0187 - val_accuracy: 0.0859\n",
            "Epoch 7/25\n",
            "149/149 - 2s - loss: 0.0186 - accuracy: 0.1055 - val_loss: 0.0181 - val_accuracy: 0.1220\n",
            "Epoch 8/25\n",
            "149/149 - 2s - loss: 0.0180 - accuracy: 0.1082 - val_loss: 0.0177 - val_accuracy: 0.1058\n",
            "Epoch 9/25\n",
            "149/149 - 2s - loss: 0.0177 - accuracy: 0.1119 - val_loss: 0.0173 - val_accuracy: 0.1266\n",
            "Epoch 10/25\n",
            "149/149 - 2s - loss: 0.0173 - accuracy: 0.1172 - val_loss: 0.0171 - val_accuracy: 0.1031\n",
            "Epoch 11/25\n",
            "149/149 - 2s - loss: 0.0168 - accuracy: 0.1185 - val_loss: 0.0168 - val_accuracy: 0.1058\n",
            "Epoch 12/25\n",
            "149/149 - 2s - loss: 0.0165 - accuracy: 0.1250 - val_loss: 0.0167 - val_accuracy: 0.1079\n",
            "Epoch 13/25\n",
            "149/149 - 2s - loss: 0.0162 - accuracy: 0.1253 - val_loss: 0.0165 - val_accuracy: 0.1098\n",
            "Epoch 14/25\n",
            "149/149 - 1s - loss: 0.0160 - accuracy: 0.1323 - val_loss: 0.0165 - val_accuracy: 0.1358\n",
            "Epoch 15/25\n",
            "149/149 - 2s - loss: 0.0157 - accuracy: 0.1354 - val_loss: 0.0163 - val_accuracy: 0.1291\n",
            "Epoch 16/25\n",
            "149/149 - 2s - loss: 0.0155 - accuracy: 0.1405 - val_loss: 0.0162 - val_accuracy: 0.1214\n",
            "Epoch 17/25\n",
            "149/149 - 2s - loss: 0.0152 - accuracy: 0.1408 - val_loss: 0.0161 - val_accuracy: 0.1447\n",
            "Epoch 18/25\n",
            "149/149 - 1s - loss: 0.0150 - accuracy: 0.1500 - val_loss: 0.0162 - val_accuracy: 0.1230\n",
            "Epoch 19/25\n",
            "149/149 - 2s - loss: 0.0149 - accuracy: 0.1529 - val_loss: 0.0159 - val_accuracy: 0.1377\n",
            "Epoch 20/25\n",
            "149/149 - 2s - loss: 0.0145 - accuracy: 0.1567 - val_loss: 0.0159 - val_accuracy: 0.1298\n",
            "Epoch 21/25\n",
            "\n",
            "Epoch 00021: ReduceLROnPlateau reducing learning rate to 0.00020000000949949026.\n",
            "149/149 - 2s - loss: 0.0142 - accuracy: 0.1645 - val_loss: 0.0158 - val_accuracy: 0.1289\n",
            "Epoch 22/25\n",
            "149/149 - 2s - loss: 0.0138 - accuracy: 0.1753 - val_loss: 0.0156 - val_accuracy: 0.1331\n",
            "Epoch 23/25\n",
            "149/149 - 1s - loss: 0.0136 - accuracy: 0.1774 - val_loss: 0.0156 - val_accuracy: 0.1337\n",
            "Epoch 24/25\n",
            "\n",
            "Epoch 00024: ReduceLROnPlateau reducing learning rate to 8.000000379979611e-05.\n",
            "149/149 - 1s - loss: 0.0135 - accuracy: 0.1825 - val_loss: 0.0156 - val_accuracy: 0.1339\n",
            "Epoch 25/25\n",
            "149/149 - 2s - loss: 0.0131 - accuracy: 0.1884 - val_loss: 0.0156 - val_accuracy: 0.1350\n",
            "train:\n",
            "[('loss', 0.011739284731447697), ('accuracy', 0.22885937988758087)]\n",
            "val:\n",
            "[('loss', 0.011739284731447697), ('accuracy', 0.22885937988758087)]\n"
          ],
          "name": "stdout"
        }
      ]
    },
    {
      "cell_type": "code",
      "metadata": {
        "colab": {
          "base_uri": "https://localhost:8080/",
          "height": 283
        },
        "id": "qpQSh1SDEwIH",
        "outputId": "be35623c-cc42-4b30-83fe-97c062c8be76"
      },
      "source": [
        "history.history['loss']\n",
        "import matplotlib.pyplot as plt\n",
        "plt.plot(history.history['loss'])\n",
        "plt.plot(history.history['val_loss'])"
      ],
      "execution_count": 31,
      "outputs": [
        {
          "output_type": "execute_result",
          "data": {
            "text/plain": [
              "[<matplotlib.lines.Line2D at 0x7f7ea37bb7f0>]"
            ]
          },
          "metadata": {
            "tags": []
          },
          "execution_count": 31
        },
        {
          "output_type": "display_data",
          "data": {
            "image/png": "[encoded data removed]",
            "text/plain": [
              "<Figure size 432x288 with 1 Axes>"
            ]
          },
          "metadata": {
            "tags": [],
            "needs_background": "light"
          }
        }
      ]
    },
    {
      "cell_type": "code",
      "metadata": {
        "colab": {
          "base_uri": "https://localhost:8080/",
          "height": 283
        },
        "id": "STrZGKE_Fsht",
        "outputId": "1f865d36-9209-4f86-b7cb-e5bf2e2cad08"
      },
      "source": [
        "plt.plot(history.history['accuracy'])\n",
        "plt.plot(history.history['val_accuracy'])"
      ],
      "execution_count": 34,
      "outputs": [
        {
          "output_type": "execute_result",
          "data": {
            "text/plain": [
              "[<matplotlib.lines.Line2D at 0x7f7ea3726f60>]"
            ]
          },
          "metadata": {
            "tags": []
          },
          "execution_count": 34
        },
        {
          "output_type": "display_data",
          "data": {
            "image/png": "[encoded data removed]",
            "text/plain": [
              "<Figure size 432x288 with 1 Axes>"
            ]
          },
          "metadata": {
            "tags": [],
            "needs_background": "light"
          }
        }
      ]
    },
    {
      "cell_type": "code",
      "metadata": {
        "id": "fvPj3EsFiiNC"
      },
      "source": [
        "models[1].predict(x_test)\n",
        "# model[1].evaluate(x_test)"
      ],
      "execution_count": null,
      "outputs": []
    },
    {
      "cell_type": "code",
      "metadata": {
        "id": "XXHd2O4fzHYn"
      },
      "source": [
        "test_preds = sub.copy()\n",
        "test_preds[target_cols] = 0\n",
        "for model in models:\n",
        "  test_preds.loc[:, target_cols] += model.predict(x_test)\n",
        "test_preds.loc[:, target_cols] /= len(models)\n",
        "test_preds.loc[x_test['cp_type'] == 0, target_cols] = 0\n",
        "test_preds.to_csv('submission.csv', index = False)"
      ],
      "execution_count": null,
      "outputs": []
    }
  ]
}